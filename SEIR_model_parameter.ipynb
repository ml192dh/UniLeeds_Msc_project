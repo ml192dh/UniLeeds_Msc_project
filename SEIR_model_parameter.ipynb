{
 "cells": [
  {
   "cell_type": "code",
   "execution_count": 1,
   "metadata": {},
   "outputs": [],
   "source": [
    "import os\n",
    "import sys\n",
    "import matplotlib.pyplot as plt\n",
    "import numpy as np\n",
    "import pandas as pd\n",
    "from scipy.integrate import odeint\n",
    "import plotly.graph_objects as go\n",
    "import plotly.io as pio\n",
    "import requests\n",
    "from lmfit import minimize, Parameters, Parameter, report_fit\n",
    "from IPython.display import HTML\n",
    "from ipywidgets.widgets import interact, IntSlider, FloatSlider, Layout, ToggleButton\n",
    "\n",
    "style = {'description_width': '100px'}\n",
    "slider_layout = Layout(width='99%')\n",
    "\n",
    "pio.renderers.default = \"notebook\"\n",
    "%matplotlib inline\n",
    "plt.style.use('ggplot')"
   ]
  },
  {
   "cell_type": "code",
   "execution_count": 2,
   "metadata": {},
   "outputs": [],
   "source": [
    "def SEIR_model(y, t, lamda, lam2, delta, mu):  \n",
    "    S, E, I, R = y\n",
    "    N = S + E + I + R\n",
    "    ds_dt = - lamda * S * I / N  - lam2 * S * E / N            \n",
    "    de_dt = lamda * S * I / N + lam2 * S * E / N - delta * E  \n",
    "    di_dt = delta * E - mu * I                  \n",
    "    dr_dt = mu * I\n",
    "    return np.array([ds_dt,de_dt,di_dt,dr_dt])"
   ]
  },
  {
   "cell_type": "code",
   "execution_count": 3,
   "metadata": {},
   "outputs": [],
   "source": [
    "def SEIR_solver(t, initial_conditions, params):\n",
    "    initE, initI, initR, initN = initial_conditions\n",
    "    lamda, lam2, delta, mu = params['lamda'].value, params['lam2'].value, params['delta'].value, params['mu'].value\n",
    "    initS = initN - (initE + initI + initR)\n",
    "    res = odeint(SEIR_model, [initS, initE, initI, initR], t, args=(lamda, lam2, delta, mu))\n",
    "    return res"
   ]
  },
  {
   "cell_type": "code",
   "execution_count": 4,
   "metadata": {},
   "outputs": [
    {
     "data": {
      "text/html": [
       "<div>\n",
       "<style scoped>\n",
       "    .dataframe tbody tr th:only-of-type {\n",
       "        vertical-align: middle;\n",
       "    }\n",
       "\n",
       "    .dataframe tbody tr th {\n",
       "        vertical-align: top;\n",
       "    }\n",
       "\n",
       "    .dataframe thead th {\n",
       "        text-align: right;\n",
       "    }\n",
       "</style>\n",
       "<table border=\"1\" class=\"dataframe\">\n",
       "  <thead>\n",
       "    <tr style=\"text-align: right;\">\n",
       "      <th></th>\n",
       "      <th>Date_reported</th>\n",
       "      <th>Country_code</th>\n",
       "      <th>Country</th>\n",
       "      <th>WHO_region</th>\n",
       "      <th>New_cases</th>\n",
       "      <th>Cumulative_cases</th>\n",
       "      <th>New_deaths</th>\n",
       "      <th>Cumulative_deaths</th>\n",
       "      <th>total_confirmed</th>\n",
       "      <th>total_deaths</th>\n",
       "      <th>total_recoverd</th>\n",
       "    </tr>\n",
       "  </thead>\n",
       "  <tbody>\n",
       "    <tr>\n",
       "      <th>0</th>\n",
       "      <td>2021/3/12</td>\n",
       "      <td>IN</td>\n",
       "      <td>India</td>\n",
       "      <td>SEARO</td>\n",
       "      <td>23285</td>\n",
       "      <td>11308846</td>\n",
       "      <td>117</td>\n",
       "      <td>158306</td>\n",
       "      <td>11308846</td>\n",
       "      <td>158306</td>\n",
       "      <td>10973260</td>\n",
       "    </tr>\n",
       "    <tr>\n",
       "      <th>1</th>\n",
       "      <td>2021/3/13</td>\n",
       "      <td>IN</td>\n",
       "      <td>India</td>\n",
       "      <td>SEARO</td>\n",
       "      <td>24882</td>\n",
       "      <td>11333728</td>\n",
       "      <td>140</td>\n",
       "      <td>158446</td>\n",
       "      <td>11333728</td>\n",
       "      <td>158446</td>\n",
       "      <td>10989897</td>\n",
       "    </tr>\n",
       "    <tr>\n",
       "      <th>2</th>\n",
       "      <td>2021/3/14</td>\n",
       "      <td>IN</td>\n",
       "      <td>India</td>\n",
       "      <td>SEARO</td>\n",
       "      <td>25320</td>\n",
       "      <td>11359048</td>\n",
       "      <td>161</td>\n",
       "      <td>158607</td>\n",
       "      <td>11359048</td>\n",
       "      <td>158607</td>\n",
       "      <td>11007352</td>\n",
       "    </tr>\n",
       "    <tr>\n",
       "      <th>3</th>\n",
       "      <td>2021/3/15</td>\n",
       "      <td>IN</td>\n",
       "      <td>India</td>\n",
       "      <td>SEARO</td>\n",
       "      <td>26291</td>\n",
       "      <td>11385339</td>\n",
       "      <td>118</td>\n",
       "      <td>158725</td>\n",
       "      <td>11385339</td>\n",
       "      <td>158725</td>\n",
       "      <td>11027543</td>\n",
       "    </tr>\n",
       "    <tr>\n",
       "      <th>4</th>\n",
       "      <td>2021/3/16</td>\n",
       "      <td>IN</td>\n",
       "      <td>India</td>\n",
       "      <td>SEARO</td>\n",
       "      <td>24492</td>\n",
       "      <td>11409831</td>\n",
       "      <td>131</td>\n",
       "      <td>158856</td>\n",
       "      <td>11409831</td>\n",
       "      <td>158856</td>\n",
       "      <td>11045284</td>\n",
       "    </tr>\n",
       "  </tbody>\n",
       "</table>\n",
       "</div>"
      ],
      "text/plain": [
       "  Date_reported Country_code Country WHO_region  New_cases  Cumulative_cases  \\\n",
       "0     2021/3/12           IN   India      SEARO      23285          11308846   \n",
       "1     2021/3/13           IN   India      SEARO      24882          11333728   \n",
       "2     2021/3/14           IN   India      SEARO      25320          11359048   \n",
       "3     2021/3/15           IN   India      SEARO      26291          11385339   \n",
       "4     2021/3/16           IN   India      SEARO      24492          11409831   \n",
       "\n",
       "   New_deaths  Cumulative_deaths  total_confirmed  total_deaths  \\\n",
       "0         117             158306         11308846        158306   \n",
       "1         140             158446         11333728        158446   \n",
       "2         161             158607         11359048        158607   \n",
       "3         118             158725         11385339        158725   \n",
       "4         131             158856         11409831        158856   \n",
       "\n",
       "   total_recoverd  \n",
       "0        10973260  \n",
       "1        10989897  \n",
       "2        11007352  \n",
       "3        11027543  \n",
       "4        11045284  "
      ]
     },
     "execution_count": 4,
     "metadata": {},
     "output_type": "execute_result"
    }
   ],
   "source": [
    "data = pd.read_csv('Data_India.csv')\n",
    "India = data[data['Country']=='India']\n",
    "India = India.loc[70:]\n",
    "India.index = range(0,len(India)) # 将index改成从1开始\n",
    "India.head()"
   ]
  },
  {
   "cell_type": "code",
   "execution_count": 5,
   "metadata": {},
   "outputs": [],
   "source": [
    "df_covid_history = India.sort_values(by='Date_reported')\n",
    "df_covid_history['infected'] = India['total_confirmed']\n",
    "df_covid_history['total_recovered_or_dead'] = India['total_recoverd'] + India['total_deaths']"
   ]
  },
  {
   "cell_type": "code",
   "execution_count": 6,
   "metadata": {},
   "outputs": [],
   "source": [
    "initN = 13.24e8\n",
    "initE = 100000\n",
    "initI = 11308846\n",
    "initR = 158306 + 10973260\n",
    "\n",
    "lamda = 1.0\n",
    "lam2 = 0.25\n",
    "delta = 0.05  \n",
    "mu = 0.1\n",
    "#beta = R0 * gamma\n",
    "days = 200\n",
    "\n",
    "params = Parameters()\n",
    "params.add('lamda', value=lamda, min=0, max=10)\n",
    "params.add('lam2', value=lam2, min=0, max=10)\n",
    "params.add('delta', value=delta, min=0, max=10)\n",
    "params.add('mu', value=mu, min=0, max=10)"
   ]
  },
  {
   "cell_type": "code",
   "execution_count": 7,
   "metadata": {},
   "outputs": [],
   "source": [
    "def main(initE, initI, initR, initN, lamda, lam2, delta, mu, days, param_fitting):\n",
    "    initial_conditions = [initE, initI, initR, initN]\n",
    "    params['lamda'].value, params['lam2'].value,params['delta'].value, params['mu'].value = [lamda, lam2, delta, mu]\n",
    "    tspan = np.arange(0, days, 1)\n",
    "    sol = SEIR_solver(tspan, initial_conditions, params)\n",
    "    S, E, I, R = sol[:, 0], sol[:, 1], sol[:, 2], sol[:, 3]\n",
    "    \n",
    "    # Create traces\n",
    "    fig = go.Figure()\n",
    "    if not param_fitting:\n",
    "        fig.add_trace(go.Scatter(x=tspan, y=S, mode='lines+markers', name='Susceptible'))\n",
    "        fig.add_trace(go.Scatter(x=tspan, y=E, mode='lines+markers', name='Exposed'))\n",
    "    fig.add_trace(go.Scatter(x=tspan, y=I, mode='lines+markers', name='Infected'))\n",
    "    fig.add_trace(go.Scatter(x=tspan, y=R, mode='lines+markers',name='Recovered'))\n",
    "    if param_fitting:\n",
    "        fig.add_trace(go.Scatter(x=tspan, y=df_covid_history.infected, mode='lines+markers',\\\n",
    "                             name='Infections Observed', line = dict(dash='dash')))\n",
    "        fig.add_trace(go.Scatter(x=tspan, y=df_covid_history.total_recovered_or_dead, mode='lines+markers',\\\n",
    "                             name='Recovered/Deceased Observed', line = dict(dash='dash')))\n",
    "    \n",
    "    if days <= 30:\n",
    "        step = 1\n",
    "    elif days <= 90:\n",
    "        step = 7\n",
    "    else:\n",
    "        step = 30\n",
    "    \n",
    "    # Edit the layout\n",
    "    fig.update_layout(title='Simulation of SEIR Model',\n",
    "                       xaxis_title='Day',\n",
    "                       yaxis_title='Counts',\n",
    "                       title_x=0.5,\n",
    "                      width=900, height=600\n",
    "                     )\n",
    "    fig.update_xaxes(tickangle=-90, tickformat = None, tickmode='array', tickvals=np.arange(0, days + 1, step))\n",
    "    if not os.path.exists(\"images\"):\n",
    "        os.mkdir(\"images\")\n",
    "    fig.write_image(\"images/seir_simulation.png\")\n",
    "    fig.show()"
   ]
  },
  {
   "cell_type": "code",
   "execution_count": 8,
   "metadata": {},
   "outputs": [
    {
     "data": {
      "application/vnd.jupyter.widget-view+json": {
       "model_id": "d3da8f759ff7409cb4d2af89f6e50d4d",
       "version_major": 2,
       "version_minor": 0
      },
      "text/plain": [
       "interactive(children=(IntSlider(value=100000, description='initE', layout=Layout(width='99%'), max=100000, sty…"
      ]
     },
     "metadata": {},
     "output_type": "display_data"
    }
   ],
   "source": [
    "interact(main, initE=IntSlider(min=0, max=100000, step=1, value=initE, description='initE', style=style, \\\n",
    "                               layout=slider_layout),\n",
    "               initI=IntSlider(min=0, max=100000, step=10, value=initI, description='initI', style=style, \\\n",
    "                               layout=slider_layout),\n",
    "               initR=IntSlider(min=0, max=100000, step=10, value=initR, description='initR', style=style, \\\n",
    "                               layout=slider_layout),\n",
    "               initN=IntSlider(min=0, max=1380000000, step=1000, value=initN, description='initN', style=style, \\\n",
    "                               layout=slider_layout),\n",
    "               lamda=FloatSlider(min=0, max=4, step=0.01, value=lamda, description='Infection rate', style=style, \\\n",
    "                                layout=slider_layout),\n",
    "               lam2=FloatSlider(min=0, max=4, step=0.01, value=lam2, description='Infection rate2', style=style, \\\n",
    "                                layout=slider_layout),\n",
    "               delta=FloatSlider(min=0, max=4, step=0.01, value=delta, description='Incubation rate', style=style, \\\n",
    "                                 layout=slider_layout),\n",
    "               mu=FloatSlider(min=0, max=4, step=0.01, value=mu, description='Recovery rate', style=style, \\\n",
    "                                 layout=slider_layout),\n",
    "               days=IntSlider(min=0, max=600, step=7, value=days, description='Days', style=style, \\\n",
    "                              layout=slider_layout),\n",
    "               param_fitting=ToggleButton(value=False, description='Fitting Mode', disabled=False, button_style='', \\\n",
    "             tooltip='Click to show fewer plots', icon='check-circle')\n",
    "        );"
   ]
  },
  {
   "cell_type": "code",
   "execution_count": 9,
   "metadata": {},
   "outputs": [],
   "source": [
    "def error(params, initial_conditions, tspan, data):\n",
    "    sol = SEIR_solver(tspan, initial_conditions, params)\n",
    "    return (sol[:, 2:4] - data).ravel()"
   ]
  },
  {
   "cell_type": "code",
   "execution_count": 10,
   "metadata": {},
   "outputs": [],
   "source": [
    "initial_conditions = [initE, initI, initR, initN]\n",
    "lamda = 0.2\n",
    "lam2 = 0.1\n",
    "delta = 0.05  \n",
    "mu = 0.1\n",
    "params['lamda'].value = lamda\n",
    "params['lam2'].value = lam2\n",
    "params['delta'].value = delta\n",
    "params['mu'].value = mu\n",
    "days = 82\n",
    "tspan = np.arange(0, days, 1)\n",
    "data = df_covid_history.loc[0:(days-1), ['infected', 'total_recovered_or_dead']].values"
   ]
  },
  {
   "cell_type": "code",
   "execution_count": 11,
   "metadata": {},
   "outputs": [
    {
     "data": {
      "text/html": [
       "<table><tr><th> name </th><th> value </th><th> initial value </th><th> min </th><th> max </th><th> vary </th></tr><tr><td> lamda </td><td>  0.20000000 </td><td> 1.0 </td><td>  0.00000000 </td><td>  10.0000000 </td><td> True </td></tr><tr><td> lam2 </td><td>  0.10000000 </td><td> 0.25 </td><td>  0.00000000 </td><td>  10.0000000 </td><td> True </td></tr><tr><td> delta </td><td>  0.05000000 </td><td> 0.05 </td><td>  0.00000000 </td><td>  10.0000000 </td><td> True </td></tr><tr><td> mu </td><td>  0.10000000 </td><td> 0.1 </td><td>  0.00000000 </td><td>  10.0000000 </td><td> True </td></tr></table>"
      ],
      "text/plain": [
       "Parameters([('lamda', <Parameter 'lamda', value=0.2, bounds=[0:10]>),\n",
       "            ('lam2', <Parameter 'lam2', value=0.1, bounds=[0:10]>),\n",
       "            ('delta', <Parameter 'delta', value=0.05, bounds=[0:10]>),\n",
       "            ('mu', <Parameter 'mu', value=0.1, bounds=[0:10]>)])"
      ]
     },
     "execution_count": 11,
     "metadata": {},
     "output_type": "execute_result"
    }
   ],
   "source": [
    "params"
   ]
  },
  {
   "cell_type": "code",
   "execution_count": 12,
   "metadata": {},
   "outputs": [],
   "source": [
    "result = minimize(error, params, args=(initial_conditions, tspan, data), method='leastsq')"
   ]
  },
  {
   "cell_type": "code",
   "execution_count": 13,
   "metadata": {},
   "outputs": [
    {
     "data": {
      "text/html": [
       "<table><tr><th> name </th><th> value </th><th> standard error </th><th> relative error </th><th> initial value </th><th> min </th><th> max </th><th> vary </th></tr><tr><td> lamda </td><td>  3.85375450 </td><td>  4.72785397 </td><td> (122.68%) </td><td> 0.2 </td><td>  0.00000000 </td><td>  10.0000000 </td><td> True </td></tr><tr><td> lam2 </td><td>  0.06793573 </td><td>  0.17636618 </td><td> (259.61%) </td><td> 0.1 </td><td>  0.00000000 </td><td>  10.0000000 </td><td> True </td></tr><tr><td> delta </td><td>  3.3623e-04 </td><td>  3.2641e-05 </td><td> (9.71%) </td><td> 0.05 </td><td>  0.00000000 </td><td>  10.0000000 </td><td> True </td></tr><tr><td> mu </td><td>  0.00879012 </td><td>  4.6420e-04 </td><td> (5.28%) </td><td> 0.1 </td><td>  0.00000000 </td><td>  10.0000000 </td><td> True </td></tr></table>"
      ],
      "text/plain": [
       "Parameters([('lamda',\n",
       "             <Parameter 'lamda', value=3.8537544974921722 +/- 4.73, bounds=[0:10]>),\n",
       "            ('lam2',\n",
       "             <Parameter 'lam2', value=0.06793572772302137 +/- 0.176, bounds=[0:10]>),\n",
       "            ('delta',\n",
       "             <Parameter 'delta', value=0.0003362277437984895 +/- 3.26e-05, bounds=[0:10]>),\n",
       "            ('mu',\n",
       "             <Parameter 'mu', value=0.00879011584111633 +/- 0.000464, bounds=[0:10]>)])"
      ]
     },
     "execution_count": 13,
     "metadata": {},
     "output_type": "execute_result"
    }
   ],
   "source": [
    "result.params"
   ]
  },
  {
   "cell_type": "code",
   "execution_count": 14,
   "metadata": {},
   "outputs": [
    {
     "name": "stdout",
     "output_type": "stream",
     "text": [
      "[[Fit Statistics]]\n",
      "    # fitting method   = leastsq\n",
      "    # function evals   = 106\n",
      "    # data points      = 164\n",
      "    # variables        = 4\n",
      "    chi-square         = 1.2837e+15\n",
      "    reduced chi-square = 8.0229e+12\n",
      "    Akaike info crit   = 4876.93561\n",
      "    Bayesian info crit = 4889.33508\n",
      "[[Variables]]\n",
      "    lamda:  3.85375450 +/- 4.72785397 (122.68%) (init = 0.2)\n",
      "    lam2:   0.06793573 +/- 0.17636618 (259.61%) (init = 0.1)\n",
      "    delta:  3.3623e-04 +/- 3.2641e-05 (9.71%) (init = 0.05)\n",
      "    mu:     0.00879012 +/- 4.6420e-04 (5.28%) (init = 0.1)\n",
      "[[Correlations]] (unreported correlations are < 0.100)\n",
      "    C(lamda, lam2)  = -0.973\n",
      "    C(lam2, delta)  = -0.687\n",
      "    C(lamda, delta) =  0.516\n",
      "    C(delta, mu)    =  0.286\n",
      "    C(lamda, mu)    = -0.124\n"
     ]
    }
   ],
   "source": [
    "report_fit(result)"
   ]
  },
  {
   "cell_type": "code",
   "execution_count": 15,
   "metadata": {},
   "outputs": [
    {
     "data": {
      "text/html": [
       "<div>                            <div id=\"f5bbbebf-4cbb-43c0-8875-19ed444d926a\" class=\"plotly-graph-div\" style=\"height:600px; width:1000px;\"></div>            <script type=\"text/javascript\">                require([\"plotly\"], function(Plotly) {                    window.PLOTLYENV=window.PLOTLYENV || {};                                    if (document.getElementById(\"f5bbbebf-4cbb-43c0-8875-19ed444d926a\")) {                    Plotly.newPlot(                        \"f5bbbebf-4cbb-43c0-8875-19ed444d926a\",                        [{\"line\":{\"dash\":\"dot\"},\"mode\":\"markers\",\"name\":\"Observed Infections\",\"type\":\"scatter\",\"x\":[0,1,2,3,4,5,6,7,8,9,10,11,12,13,14,15,16,17,18,19,20,21,22,23,24,25,26,27,28,29,30,31,32,33,34,35,36,37,38,39,40,41,42,43,44,45,46,47,48,49,50,51,52,53,54,55,56,57,58,59,60,61,62,63,64,65,66,67,68,69,70,71,72,73,74,75,76,77,78,79,80,81],\"y\":[11308846,11333728,11359048,11385339,11409831,11438734,11474605,11514331,11555284,11599130,11646081,11686796,11734058,11787534,11846652,11908910,11971624,12039644,12095855,12149335,12221665,13205926,13358805,13527717,13689453,13873825,14074564,14291917,14526609,14788003,15061805,12303131,15320972,15616130,15930774,16263695,16610481,16960172,17313163,17636186,17997113,18376421,12392260,18762976,12485509,12589067,12686049,12801785,12928574,13060542,19164969,22662575,22992517,23340938,23703665,24046809,24372907,24684077,24965463,25228996,25496330,19557457,25772440,26031991,26289290,26530132,26752447,26948874,27157795,27369093,27555457,27729247,19925517,27894800,28047534,20282833,20664979,21077410,21491598,21892676,22296081,28175044]},{\"line\":{\"dash\":\"dot\"},\"mode\":\"markers\",\"name\":\"Observed Recovered/Deceased\",\"type\":\"scatter\",\"x\":[0,1,2,3,4,5,6,7,8,9,10,11,12,13,14,15,16,17,18,19,20,21,22,23,24,25,26,27,28,29,30,31,32,33,34,35,36,37,38,39,40,41,42,43,44,45,46,47,48,49,50,51,52,53,54,55,56,57,58,59,60,61,62,63,64,65,66,67,68,69,70,71,72,73,74,75,76,77,78,79,80,81],\"y\":[11131566,11148343,11165959,11186268,11204140,11222069,11242895,11266702,11289846,11311223,11341220,11365326,11392091,11425329,11455972,11485002,11517545,11554864,11596415,11637151,11687966,12249879,12325804,12423876,12507094,12601649,12720989,12845528,12985287,13130967,13287334,11732637,13456569,13637433,13832816,14054917,14274654,14496693,14751212,15015134,15287927,15589250,11793399,15892736,11846759,11897380,11957682,12017570,12080154,12158501,16204124,19273420,19632634,19989020,20337916,20695215,21061542,21444360,21870902,22265082,22638688,16508267,22999857,23361696,23720992,24027277,24358581,24658047,24945339,25208645,25496906,25776832,16832251,26018314,26276729,17173929,17507032,17842519,18165043,18555634,18913569,26510980]},{\"mode\":\"lines+markers\",\"name\":\"Fitted Infections\",\"type\":\"scatter\",\"x\":[0,1,2,3,4,5,6,7,8,9,10,11,12,13,14,15,16,17,18,19,20,21,22,23,24,25,26,27,28,29,30,31,32,33,34,35,36,37,38,39,40,41,42,43,44,45,46,47,48,49,50,51,52,53,54,55,56,57,58,59,60,61,62,63,64,65,66,67,68,69,70,71,72,73,74,75,76,77,78,79,80,81],\"y\":[11308846.0,11217149.224279735,11140937.396970607,11080385.704244176,11035630.51297792,11006763.18133668,10993824.415238632,10996799.321066726,11015613.345122773,11050129.347048216,11100145.811498202,11165396.379088238,11245550.710453223,11340216.655168442,11448943.672728065,11571227.400045618,11706515.142702905,11854212.201430207,12013688.753873298,12184287.081953494,12365328.940782817,12556122.862314494,12755971.205988687,12964176.796329584,13180049.043377409,13402909.42367207,13632096.292801179,13866968.975566546,14106911.141535807,14351333.48284626,14599675.727996513,14851408.040280433,15106031.862348963,15363080.267883992,15622117.887450155,15882740.47112247,16144574.153152507,16407274.475954443,16670525.22656748,16934037.133928735,17197546.469775278,17460813.588880148,17723621.438051276,17985774.065264028,18247095.15461032,18507426.553637642,18766626.909959923,19024570.330718063,19281145.08580766,19536252.435554985,19789805.473541535,20041728.077086683,20291953.91704747,20540425.539935753,20787093.51954467,21031915.676325787,21274856.35796215,21515885.781659532,21754979.43254315,21992117.51496289,22227284.453573458,22460468.440293532,22691661.023741707,22920856.7380094,23148052.767413422,23373248.644392923,23596445.97757956,23817648.20746705,24036860.387226846,24254088.986255385,24469341.714403834,24682627.36494906,24893955.674437363,25103337.197737575,25310783.19682935,25516305.54194914,25719916.623779524,25921629.275559038,26121456.704101298,26319412.42877502,26515510.227549117,26709764.089388043]},{\"mode\":\"lines+markers\",\"name\":\"Fitted Recovered/Deceased\",\"type\":\"scatter\",\"x\":[0,1,2,3,4,5,6,7,8,9,10,11,12,13,14,15,16,17,18,19,20,21,22,23,24,25,26,27,28,29,30,31,32,33,34,35,36,37,38,39,40,41,42,43,44,45,46,47,48,49,50,51,52,53,54,55,56,57,58,59,60,61,62,63,64,65,66,67,68,69,70,71,72,73,74,75,76,77,78,79,80,81],\"y\":[11131566.0,11230557.782941576,11328811.45668137,11426463.931838635,11523653.493127258,11620519.430023994,11717201.616628224,11813840.043599546,11910574.311818954,12007543.09244736,12104883.569517145,12202730.870570587,12301217.499585016,12400472.783270746,12500622.341573842,12601787.592138695,12704085.30606407,12807627.203340776,12912519.619616935,13018863.224178169,13126752.810275111,13236277.146138858,13347518.888853796,13460554.561468832,13575454.582815645,13692283.350936446,13811099.370399721,13931955.419296194,14054898.74888048,14179971.309803171,14307209.999047361,14436646.9216908,14568309.66250308,14702221.562818585,14838401.998534355,14976866.655814432,15117627.801587814,15260694.546487095,15406073.098380892,15553767.005009053,15703777.384689271,15856103.144460913,16010741.185335051,16167686.594198953,16326932.82225466,16488471.852885468,16652294.353530208,16818389.8175945,16986746.696034484,17157352.514671504,17330193.984766718,17505257.10164795,17682527.235234387,17861989.2120806,18043627.389621977,18227425.723186757,18413367.826559994,18601437.026390124,18791616.411099076,18983888.87475058,19178237.156297892,19374643.874656357,19573091.559987575,19773562.68154065,19976039.672407385,20180504.95145237,20386940.9427459,20595330.092722103,20805654.8852929,21017897.85514918,21232041.599424046,21448068.78789102,21665962.17185841,21885704.59190373,22107278.98456865,22330668.388129372,22555855.94755028,22782824.918710917,23011558.6719863,23242040.695255306,23474254.596407697,23708184.105403807]}],                        {\"height\":600,\"template\":{\"data\":{\"bar\":[{\"error_x\":{\"color\":\"#2a3f5f\"},\"error_y\":{\"color\":\"#2a3f5f\"},\"marker\":{\"line\":{\"color\":\"#E5ECF6\",\"width\":0.5},\"pattern\":{\"fillmode\":\"overlay\",\"size\":10,\"solidity\":0.2}},\"type\":\"bar\"}],\"barpolar\":[{\"marker\":{\"line\":{\"color\":\"#E5ECF6\",\"width\":0.5},\"pattern\":{\"fillmode\":\"overlay\",\"size\":10,\"solidity\":0.2}},\"type\":\"barpolar\"}],\"carpet\":[{\"aaxis\":{\"endlinecolor\":\"#2a3f5f\",\"gridcolor\":\"white\",\"linecolor\":\"white\",\"minorgridcolor\":\"white\",\"startlinecolor\":\"#2a3f5f\"},\"baxis\":{\"endlinecolor\":\"#2a3f5f\",\"gridcolor\":\"white\",\"linecolor\":\"white\",\"minorgridcolor\":\"white\",\"startlinecolor\":\"#2a3f5f\"},\"type\":\"carpet\"}],\"choropleth\":[{\"colorbar\":{\"outlinewidth\":0,\"ticks\":\"\"},\"type\":\"choropleth\"}],\"contour\":[{\"colorbar\":{\"outlinewidth\":0,\"ticks\":\"\"},\"colorscale\":[[0.0,\"#0d0887\"],[0.1111111111111111,\"#46039f\"],[0.2222222222222222,\"#7201a8\"],[0.3333333333333333,\"#9c179e\"],[0.4444444444444444,\"#bd3786\"],[0.5555555555555556,\"#d8576b\"],[0.6666666666666666,\"#ed7953\"],[0.7777777777777778,\"#fb9f3a\"],[0.8888888888888888,\"#fdca26\"],[1.0,\"#f0f921\"]],\"type\":\"contour\"}],\"contourcarpet\":[{\"colorbar\":{\"outlinewidth\":0,\"ticks\":\"\"},\"type\":\"contourcarpet\"}],\"heatmap\":[{\"colorbar\":{\"outlinewidth\":0,\"ticks\":\"\"},\"colorscale\":[[0.0,\"#0d0887\"],[0.1111111111111111,\"#46039f\"],[0.2222222222222222,\"#7201a8\"],[0.3333333333333333,\"#9c179e\"],[0.4444444444444444,\"#bd3786\"],[0.5555555555555556,\"#d8576b\"],[0.6666666666666666,\"#ed7953\"],[0.7777777777777778,\"#fb9f3a\"],[0.8888888888888888,\"#fdca26\"],[1.0,\"#f0f921\"]],\"type\":\"heatmap\"}],\"heatmapgl\":[{\"colorbar\":{\"outlinewidth\":0,\"ticks\":\"\"},\"colorscale\":[[0.0,\"#0d0887\"],[0.1111111111111111,\"#46039f\"],[0.2222222222222222,\"#7201a8\"],[0.3333333333333333,\"#9c179e\"],[0.4444444444444444,\"#bd3786\"],[0.5555555555555556,\"#d8576b\"],[0.6666666666666666,\"#ed7953\"],[0.7777777777777778,\"#fb9f3a\"],[0.8888888888888888,\"#fdca26\"],[1.0,\"#f0f921\"]],\"type\":\"heatmapgl\"}],\"histogram\":[{\"marker\":{\"pattern\":{\"fillmode\":\"overlay\",\"size\":10,\"solidity\":0.2}},\"type\":\"histogram\"}],\"histogram2d\":[{\"colorbar\":{\"outlinewidth\":0,\"ticks\":\"\"},\"colorscale\":[[0.0,\"#0d0887\"],[0.1111111111111111,\"#46039f\"],[0.2222222222222222,\"#7201a8\"],[0.3333333333333333,\"#9c179e\"],[0.4444444444444444,\"#bd3786\"],[0.5555555555555556,\"#d8576b\"],[0.6666666666666666,\"#ed7953\"],[0.7777777777777778,\"#fb9f3a\"],[0.8888888888888888,\"#fdca26\"],[1.0,\"#f0f921\"]],\"type\":\"histogram2d\"}],\"histogram2dcontour\":[{\"colorbar\":{\"outlinewidth\":0,\"ticks\":\"\"},\"colorscale\":[[0.0,\"#0d0887\"],[0.1111111111111111,\"#46039f\"],[0.2222222222222222,\"#7201a8\"],[0.3333333333333333,\"#9c179e\"],[0.4444444444444444,\"#bd3786\"],[0.5555555555555556,\"#d8576b\"],[0.6666666666666666,\"#ed7953\"],[0.7777777777777778,\"#fb9f3a\"],[0.8888888888888888,\"#fdca26\"],[1.0,\"#f0f921\"]],\"type\":\"histogram2dcontour\"}],\"mesh3d\":[{\"colorbar\":{\"outlinewidth\":0,\"ticks\":\"\"},\"type\":\"mesh3d\"}],\"parcoords\":[{\"line\":{\"colorbar\":{\"outlinewidth\":0,\"ticks\":\"\"}},\"type\":\"parcoords\"}],\"pie\":[{\"automargin\":true,\"type\":\"pie\"}],\"scatter\":[{\"marker\":{\"colorbar\":{\"outlinewidth\":0,\"ticks\":\"\"}},\"type\":\"scatter\"}],\"scatter3d\":[{\"line\":{\"colorbar\":{\"outlinewidth\":0,\"ticks\":\"\"}},\"marker\":{\"colorbar\":{\"outlinewidth\":0,\"ticks\":\"\"}},\"type\":\"scatter3d\"}],\"scattercarpet\":[{\"marker\":{\"colorbar\":{\"outlinewidth\":0,\"ticks\":\"\"}},\"type\":\"scattercarpet\"}],\"scattergeo\":[{\"marker\":{\"colorbar\":{\"outlinewidth\":0,\"ticks\":\"\"}},\"type\":\"scattergeo\"}],\"scattergl\":[{\"marker\":{\"colorbar\":{\"outlinewidth\":0,\"ticks\":\"\"}},\"type\":\"scattergl\"}],\"scattermapbox\":[{\"marker\":{\"colorbar\":{\"outlinewidth\":0,\"ticks\":\"\"}},\"type\":\"scattermapbox\"}],\"scatterpolar\":[{\"marker\":{\"colorbar\":{\"outlinewidth\":0,\"ticks\":\"\"}},\"type\":\"scatterpolar\"}],\"scatterpolargl\":[{\"marker\":{\"colorbar\":{\"outlinewidth\":0,\"ticks\":\"\"}},\"type\":\"scatterpolargl\"}],\"scatterternary\":[{\"marker\":{\"colorbar\":{\"outlinewidth\":0,\"ticks\":\"\"}},\"type\":\"scatterternary\"}],\"surface\":[{\"colorbar\":{\"outlinewidth\":0,\"ticks\":\"\"},\"colorscale\":[[0.0,\"#0d0887\"],[0.1111111111111111,\"#46039f\"],[0.2222222222222222,\"#7201a8\"],[0.3333333333333333,\"#9c179e\"],[0.4444444444444444,\"#bd3786\"],[0.5555555555555556,\"#d8576b\"],[0.6666666666666666,\"#ed7953\"],[0.7777777777777778,\"#fb9f3a\"],[0.8888888888888888,\"#fdca26\"],[1.0,\"#f0f921\"]],\"type\":\"surface\"}],\"table\":[{\"cells\":{\"fill\":{\"color\":\"#EBF0F8\"},\"line\":{\"color\":\"white\"}},\"header\":{\"fill\":{\"color\":\"#C8D4E3\"},\"line\":{\"color\":\"white\"}},\"type\":\"table\"}]},\"layout\":{\"annotationdefaults\":{\"arrowcolor\":\"#2a3f5f\",\"arrowhead\":0,\"arrowwidth\":1},\"autotypenumbers\":\"strict\",\"coloraxis\":{\"colorbar\":{\"outlinewidth\":0,\"ticks\":\"\"}},\"colorscale\":{\"diverging\":[[0,\"#8e0152\"],[0.1,\"#c51b7d\"],[0.2,\"#de77ae\"],[0.3,\"#f1b6da\"],[0.4,\"#fde0ef\"],[0.5,\"#f7f7f7\"],[0.6,\"#e6f5d0\"],[0.7,\"#b8e186\"],[0.8,\"#7fbc41\"],[0.9,\"#4d9221\"],[1,\"#276419\"]],\"sequential\":[[0.0,\"#0d0887\"],[0.1111111111111111,\"#46039f\"],[0.2222222222222222,\"#7201a8\"],[0.3333333333333333,\"#9c179e\"],[0.4444444444444444,\"#bd3786\"],[0.5555555555555556,\"#d8576b\"],[0.6666666666666666,\"#ed7953\"],[0.7777777777777778,\"#fb9f3a\"],[0.8888888888888888,\"#fdca26\"],[1.0,\"#f0f921\"]],\"sequentialminus\":[[0.0,\"#0d0887\"],[0.1111111111111111,\"#46039f\"],[0.2222222222222222,\"#7201a8\"],[0.3333333333333333,\"#9c179e\"],[0.4444444444444444,\"#bd3786\"],[0.5555555555555556,\"#d8576b\"],[0.6666666666666666,\"#ed7953\"],[0.7777777777777778,\"#fb9f3a\"],[0.8888888888888888,\"#fdca26\"],[1.0,\"#f0f921\"]]},\"colorway\":[\"#636efa\",\"#EF553B\",\"#00cc96\",\"#ab63fa\",\"#FFA15A\",\"#19d3f3\",\"#FF6692\",\"#B6E880\",\"#FF97FF\",\"#FECB52\"],\"font\":{\"color\":\"#2a3f5f\"},\"geo\":{\"bgcolor\":\"white\",\"lakecolor\":\"white\",\"landcolor\":\"#E5ECF6\",\"showlakes\":true,\"showland\":true,\"subunitcolor\":\"white\"},\"hoverlabel\":{\"align\":\"left\"},\"hovermode\":\"closest\",\"mapbox\":{\"style\":\"light\"},\"paper_bgcolor\":\"white\",\"plot_bgcolor\":\"#E5ECF6\",\"polar\":{\"angularaxis\":{\"gridcolor\":\"white\",\"linecolor\":\"white\",\"ticks\":\"\"},\"bgcolor\":\"#E5ECF6\",\"radialaxis\":{\"gridcolor\":\"white\",\"linecolor\":\"white\",\"ticks\":\"\"}},\"scene\":{\"xaxis\":{\"backgroundcolor\":\"#E5ECF6\",\"gridcolor\":\"white\",\"gridwidth\":2,\"linecolor\":\"white\",\"showbackground\":true,\"ticks\":\"\",\"zerolinecolor\":\"white\"},\"yaxis\":{\"backgroundcolor\":\"#E5ECF6\",\"gridcolor\":\"white\",\"gridwidth\":2,\"linecolor\":\"white\",\"showbackground\":true,\"ticks\":\"\",\"zerolinecolor\":\"white\"},\"zaxis\":{\"backgroundcolor\":\"#E5ECF6\",\"gridcolor\":\"white\",\"gridwidth\":2,\"linecolor\":\"white\",\"showbackground\":true,\"ticks\":\"\",\"zerolinecolor\":\"white\"}},\"shapedefaults\":{\"line\":{\"color\":\"#2a3f5f\"}},\"ternary\":{\"aaxis\":{\"gridcolor\":\"white\",\"linecolor\":\"white\",\"ticks\":\"\"},\"baxis\":{\"gridcolor\":\"white\",\"linecolor\":\"white\",\"ticks\":\"\"},\"bgcolor\":\"#E5ECF6\",\"caxis\":{\"gridcolor\":\"white\",\"linecolor\":\"white\",\"ticks\":\"\"}},\"title\":{\"x\":0.05},\"xaxis\":{\"automargin\":true,\"gridcolor\":\"white\",\"linecolor\":\"white\",\"ticks\":\"\",\"title\":{\"standoff\":15},\"zerolinecolor\":\"white\",\"zerolinewidth\":2},\"yaxis\":{\"automargin\":true,\"gridcolor\":\"white\",\"linecolor\":\"white\",\"ticks\":\"\",\"title\":{\"standoff\":15},\"zerolinecolor\":\"white\",\"zerolinewidth\":2}}},\"title\":{\"text\":\"Observed vs Fitted\",\"x\":0.5},\"width\":1000,\"xaxis\":{\"title\":{\"text\":\"Day\"}},\"yaxis\":{\"title\":{\"text\":\"Counts\"}}},                        {\"responsive\": true}                    ).then(function(){\n",
       "                            \n",
       "var gd = document.getElementById('f5bbbebf-4cbb-43c0-8875-19ed444d926a');\n",
       "var x = new MutationObserver(function (mutations, observer) {{\n",
       "        var display = window.getComputedStyle(gd).display;\n",
       "        if (!display || display === 'none') {{\n",
       "            console.log([gd, 'removed!']);\n",
       "            Plotly.purge(gd);\n",
       "            observer.disconnect();\n",
       "        }}\n",
       "}});\n",
       "\n",
       "// Listen for the removal of the full notebook cells\n",
       "var notebookContainer = gd.closest('#notebook-container');\n",
       "if (notebookContainer) {{\n",
       "    x.observe(notebookContainer, {childList: true});\n",
       "}}\n",
       "\n",
       "// Listen for the clearing of the current output cell\n",
       "var outputEl = gd.closest('.output');\n",
       "if (outputEl) {{\n",
       "    x.observe(outputEl, {childList: true});\n",
       "}}\n",
       "\n",
       "                        })                };                });            </script>        </div>"
      ]
     },
     "metadata": {},
     "output_type": "display_data"
    }
   ],
   "source": [
    "final = data + result.residual.reshape(data.shape)\n",
    "fig = go.Figure()\n",
    "fig.add_trace(go.Scatter(x=tspan, y=data[:, 0], mode='markers', name='Observed Infections', line = dict(dash='dot')))\n",
    "fig.add_trace(go.Scatter(x=tspan, y=data[:, 1], mode='markers', name='Observed Recovered/Deceased', line = dict(dash='dot')))\n",
    "fig.add_trace(go.Scatter(x=tspan, y=final[:, 0], mode='lines+markers', name='Fitted Infections'))\n",
    "fig.add_trace(go.Scatter(x=tspan, y=final[:, 1], mode='lines+markers', name='Fitted Recovered/Deceased'))\n",
    "fig.update_layout(title='Observed vs Fitted',\n",
    "                       xaxis_title='Day',\n",
    "                       yaxis_title='Counts',\n",
    "                       title_x=0.5,\n",
    "                      width=1000, height=600\n",
    "                     )"
   ]
  },
  {
   "cell_type": "code",
   "execution_count": 16,
   "metadata": {},
   "outputs": [
    {
     "name": "stdout",
     "output_type": "stream",
     "text": [
      "(82, 2)\n"
     ]
    }
   ],
   "source": [
    "observed_IR = df_covid_history.loc[:, ['infected', 'total_recovered_or_dead']].values\n",
    "print(observed_IR.shape)"
   ]
  },
  {
   "cell_type": "code",
   "execution_count": 17,
   "metadata": {},
   "outputs": [
    {
     "name": "stdout",
     "output_type": "stream",
     "text": [
      "(82, 2)\n"
     ]
    }
   ],
   "source": [
    "tspan_fit_pred = np.arange(0, observed_IR.shape[0], 1)\n",
    "params['lamda'].value = result.params['lamda'].value\n",
    "params['lam2'].value = result.params['lam2'].value\n",
    "params['delta'].value = result.params['delta'].value\n",
    "params['mu'].value = result.params['mu'].value\n",
    "fitted_predicted = SEIR_solver(tspan_fit_pred, initial_conditions, params)\n",
    "fitted_predicted_IR = fitted_predicted[:, 2:4]\n",
    "print(fitted_predicted_IR.shape)"
   ]
  },
  {
   "cell_type": "code",
   "execution_count": 18,
   "metadata": {},
   "outputs": [
    {
     "name": "stdout",
     "output_type": "stream",
     "text": [
      "Fitted MAE\n",
      "Infected:  2045735.1349423912\n",
      "Recovered/Deceased:  2246266.287284419\n",
      "\n",
      "Fitted RMSE\n",
      "Infected:  2803343.629244566\n",
      "Recovered/Deceased:  2792088.052617486\n"
     ]
    }
   ],
   "source": [
    "print(\"Fitted MAE\")\n",
    "print('Infected: ', np.mean(np.abs(fitted_predicted_IR[:days, 0] - observed_IR[:days, 0])))\n",
    "print('Recovered/Deceased: ', np.mean(np.abs(fitted_predicted_IR[:days, 1] - observed_IR[:days, 1])))\n",
    "\n",
    "print(\"\\nFitted RMSE\")\n",
    "print('Infected: ', np.sqrt(np.mean((fitted_predicted_IR[:days, 0] - observed_IR[:days, 0])**2)))\n",
    "print('Recovered/Deceased: ', np.sqrt(np.mean((fitted_predicted_IR[:days, 1] - observed_IR[:days, 1])**2)))"
   ]
  },
  {
   "cell_type": "code",
   "execution_count": 19,
   "metadata": {},
   "outputs": [
    {
     "data": {
      "application/vnd.jupyter.widget-view+json": {
       "model_id": "9f0478f2603f4f48a8259868ca21e72f",
       "version_major": 2,
       "version_minor": 0
      },
      "text/plain": [
       "interactive(children=(IntSlider(value=100000, description='initE', layout=Layout(width='99%'), max=100000, sty…"
      ]
     },
     "metadata": {},
     "output_type": "display_data"
    }
   ],
   "source": [
    "interact(main, initE=IntSlider(min=0, max=100000, step=1, value=initE, description='initE', style=style, \\\n",
    "                               layout=slider_layout),\n",
    "               initI=IntSlider(min=0, max=100000, step=10, value=initI, description='initI', style=style, \\\n",
    "                               layout=slider_layout),\n",
    "               initR=IntSlider(min=0, max=100000, step=10, value=initR, description='initR', style=style, \\\n",
    "                               layout=slider_layout),\n",
    "               initN=IntSlider(min=0, max=1380000000, step=1000, value=initN, description='initN', style=style, \\\n",
    "                               layout=slider_layout),\n",
    "               lamda=FloatSlider(min=0, max=4, step=0.01, value=lamda, description='Infection rate', style=style, \\\n",
    "                                layout=slider_layout),\n",
    "               lam2=FloatSlider(min=0, max=4, step=0.01, value=lam2, description='Infection rate2', style=style, \\\n",
    "                                layout=slider_layout),\n",
    "               delta=FloatSlider(min=0, max=4, step=0.01, value=delta, description='Incubation rate', style=style, \\\n",
    "                                 layout=slider_layout),\n",
    "               mu=FloatSlider(min=0, max=4, step=0.01, value=mu, description='Recovery rate', style=style, \\\n",
    "                                 layout=slider_layout),\n",
    "               days=IntSlider(min=0, max=600, step=7, value=days, description='Days', style=style, \\\n",
    "                              layout=slider_layout),\n",
    "               param_fitting=ToggleButton(value=False, description='Fitting Mode', disabled=False, button_style='', \\\n",
    "             tooltip='Click to show fewer plots', icon='check-circle')\n",
    "        );"
   ]
  },
  {
   "cell_type": "code",
   "execution_count": 20,
   "metadata": {},
   "outputs": [
    {
     "data": {
      "text/html": [
       "<div>\n",
       "<style scoped>\n",
       "    .dataframe tbody tr th:only-of-type {\n",
       "        vertical-align: middle;\n",
       "    }\n",
       "\n",
       "    .dataframe tbody tr th {\n",
       "        vertical-align: top;\n",
       "    }\n",
       "\n",
       "    .dataframe thead th {\n",
       "        text-align: right;\n",
       "    }\n",
       "</style>\n",
       "<table border=\"1\" class=\"dataframe\">\n",
       "  <thead>\n",
       "    <tr style=\"text-align: right;\">\n",
       "      <th></th>\n",
       "      <th>Date_reported</th>\n",
       "      <th>total_confirmed</th>\n",
       "      <th>total_deaths</th>\n",
       "      <th>total_recoverd</th>\n",
       "    </tr>\n",
       "  </thead>\n",
       "  <tbody>\n",
       "    <tr>\n",
       "      <th>1</th>\n",
       "      <td>2021/3/12</td>\n",
       "      <td>11308846</td>\n",
       "      <td>158306</td>\n",
       "      <td>10973260</td>\n",
       "    </tr>\n",
       "    <tr>\n",
       "      <th>2</th>\n",
       "      <td>2021/3/13</td>\n",
       "      <td>11333728</td>\n",
       "      <td>158446</td>\n",
       "      <td>10989897</td>\n",
       "    </tr>\n",
       "    <tr>\n",
       "      <th>3</th>\n",
       "      <td>2021/3/14</td>\n",
       "      <td>11359048</td>\n",
       "      <td>158607</td>\n",
       "      <td>11007352</td>\n",
       "    </tr>\n",
       "    <tr>\n",
       "      <th>4</th>\n",
       "      <td>2021/3/15</td>\n",
       "      <td>11385339</td>\n",
       "      <td>158725</td>\n",
       "      <td>11027543</td>\n",
       "    </tr>\n",
       "    <tr>\n",
       "      <th>5</th>\n",
       "      <td>2021/3/16</td>\n",
       "      <td>11409831</td>\n",
       "      <td>158856</td>\n",
       "      <td>11045284</td>\n",
       "    </tr>\n",
       "  </tbody>\n",
       "</table>\n",
       "</div>"
      ],
      "text/plain": [
       "  Date_reported  total_confirmed  total_deaths  total_recoverd\n",
       "1     2021/3/12         11308846        158306        10973260\n",
       "2     2021/3/13         11333728        158446        10989897\n",
       "3     2021/3/14         11359048        158607        11007352\n",
       "4     2021/3/15         11385339        158725        11027543\n",
       "5     2021/3/16         11409831        158856        11045284"
      ]
     },
     "execution_count": 20,
     "metadata": {},
     "output_type": "execute_result"
    }
   ],
   "source": [
    "data = pd.read_csv('Data_India.csv')\n",
    "India = data[data['Country'] == 'India']\n",
    "data1 = data[['Date_reported','total_confirmed','total_deaths','total_recoverd']].loc[70:]\n",
    "data1.index = range(1,len(data1) + 1) # 将index改成从1开始\n",
    "data1.head()"
   ]
  },
  {
   "cell_type": "code",
   "execution_count": 21,
   "metadata": {},
   "outputs": [],
   "source": [
    "N = 13.24e8\n",
    "infectious_real = data1['total_confirmed']\n",
    "recovered_real = data1['total_recoverd'] + data1['total_deaths']"
   ]
  },
  {
   "cell_type": "code",
   "execution_count": 22,
   "metadata": {},
   "outputs": [
    {
     "data": {
      "image/png": "[encoded data removed]",
      "text/plain": [
       "<Figure size 600x400 with 1 Axes>"
      ]
     },
     "metadata": {},
     "output_type": "display_data"
    }
   ],
   "source": [
    "def SEIR2(y, t, lamda, lam2, delta, mu):  \n",
    "    S, E, I, R = y\n",
    "    N = S + E + I + R\n",
    "    ds_dt = - lamda * S * I / N - lam2 * S * E / N            \n",
    "    de_dt = lamda * S * I / N + lam2 * S * E / N - delta * E  \n",
    "    di_dt = delta * E - mu * I                       \n",
    "    dr_dt = mu * I  \n",
    "    return np.array([ds_dt,de_dt,di_dt,dr_dt])\n",
    "\n",
    "\n",
    "N = 13.24e8 \n",
    "# Daily exposure rate, the average number of susceptible persons effectively exposed to the disease per day\n",
    "lamda = 3.839\n",
    "lam2 = 0.069\n",
    "delta = 3.3617e-04\n",
    "mu = 0.0088\n",
    "\n",
    "#Number of exposures during the infectious period\n",
    "sigma = lamda / mu  \n",
    "\n",
    "fsig = 1-1/sigma\n",
    "\n",
    "#Predicted date length\n",
    "tEnd = 200\n",
    "\n",
    "t = np.arange(0.0, tEnd, 1)  # (start,stop,step)\n",
    "\n",
    "#Initial value of the proportion of people with the disease\n",
    "i0 = 11308846 \n",
    "e0 = 100000\n",
    "r0 = (158306 + 10973260)\n",
    "s0 = N - i0 - e0 - r0\n",
    "Y0 = (s0, e0, i0, r0)  \n",
    "\n",
    "\n",
    "SEIR2 = odeint(SEIR2, Y0, t, args=(lamda,lam2,delta,mu))  # SEIR2 model\n",
    "\n",
    "fig, ax = plt.subplots(facecolor='w', dpi=100)\n",
    "for index, color, label_name in zip(range(2,4), ['r','y'], ['i(t)-SEIR', 'r(t)-SEIR']):\n",
    "    ax.plot(t, SEIR2[:, index], color, alpha=0.5, lw=2, label=label_name)\n",
    "\n",
    "#print(\"λ={}\\t λ2={}\\t δ={}\\t (1-1/sig)={}\".format(lamda,lam2,sigma,fsig))\n",
    "plt.title(\"SEIR model\")\n",
    "ax.set_xlabel('days')\n",
    "ax.set_ylabel('Number')\n",
    "ax.legend()\n",
    "ax.grid(axis='y')\n",
    "plt.box(False)\n"
   ]
  },
  {
   "cell_type": "code",
   "execution_count": 23,
   "metadata": {},
   "outputs": [
    {
     "data": {
      "image/png": "[encoded data removed]",
      "text/plain": [
       "<Figure size 600x400 with 1 Axes>"
      ]
     },
     "metadata": {},
     "output_type": "display_data"
    }
   ],
   "source": [
    "fig, ax = plt.subplots(facecolor='w', dpi=100)\n",
    "for index, color, label_name in zip(range(2,4), ['r','g'], ['i(t)-SEIR', 'r(t)-SEIR']):\n",
    "    ax.plot(t, SEIR2[:, index], color, alpha=0.5, lw=2, label=label_name)\n",
    "    \n",
    "plt.plot(infectious_real, 'r.', alpha=0.5, lw=2, label='infected_real')\n",
    "plt.plot(recovered_real, 'g.', alpha=0.5, lw=2, label='recovered_real')\n",
    "    \n",
    "#print(\"λ={}\\t λ2={}\\t δ={}\\t (1-1/sig)={}\".format(lamda,lam2,sigma,fsig))\n",
    "plt.title(\"SEIR model\")\n",
    "ax.set_xlabel('days')\n",
    "ax.set_ylabel('Number')\n",
    "ax.legend()\n",
    "ax.grid(axis='y')\n",
    "plt.box(False)"
   ]
  },
  {
   "cell_type": "code",
   "execution_count": 24,
   "metadata": {},
   "outputs": [
    {
     "data": {
      "image/png": "[encoded data removed]",
      "text/plain": [
       "<Figure size 600x400 with 1 Axes>"
      ]
     },
     "metadata": {},
     "output_type": "display_data"
    },
    {
     "data": {
      "image/png": "[encoded data removed]",
      "text/plain": [
       "<Figure size 600x400 with 1 Axes>"
      ]
     },
     "metadata": {},
     "output_type": "display_data"
    }
   ],
   "source": [
    "fig, ax = plt.subplots(facecolor='w', dpi=100)\n",
    "for index, color, label_name in zip(range(2,3), ['r'], ['i(t)-SEIR']):\n",
    "    ax.plot(t, SEIR2[:, index], color, alpha=0.5, lw=2, label=label_name)\n",
    "    \n",
    "plt.plot(infectious_real, 'r.', alpha=0.5, lw=2, label='infected_real')\n",
    "#plt.plot(recovered_real, 'g.', alpha=0.5, lw=2, label='recovered_real')\n",
    "    \n",
    "#print(\"λ={}\\t λ2={}\\t δ={}\\t (1-1/sig)={}\".format(lamda,lam2,sigma,fsig))\n",
    "plt.title(\"SEIR model\")\n",
    "ax.set_xlabel('days')\n",
    "ax.set_ylabel('Number')\n",
    "ax.legend()\n",
    "ax.grid(axis='y')\n",
    "plt.box(False)\n",
    "fig, ax = plt.subplots(facecolor='w', dpi=100)\n",
    "\n",
    "for index, color, label_name in zip(range(3,4), ['g'], ['r(t)-SEIR']):\n",
    "    ax.plot(t, SEIR2[:, index], color, alpha=0.5, lw=2, label=label_name)\n",
    "    \n",
    "#plt.plot(infectious_real, 'r.', alpha=0.5, lw=2, label='infected_real')\n",
    "plt.plot(recovered_real, 'g.', alpha=0.5, lw=2, label='recovered_real')\n",
    "    \n",
    "#print(\"λ={}\\t λ2={}\\t δ={}\\t (1-1/sig)={}\".format(lamda,lam2,sigma,fsig))\n",
    "plt.title(\"SEIR model\")\n",
    "ax.set_xlabel('days')\n",
    "ax.set_ylabel('Number')\n",
    "ax.legend()\n",
    "ax.grid(axis='y')\n",
    "plt.box(False)"
   ]
  },
  {
   "cell_type": "code",
   "execution_count": null,
   "metadata": {},
   "outputs": [],
   "source": []
  }
 ],
 "metadata": {
  "kernelspec": {
   "display_name": "Python 3",
   "language": "python",
   "name": "python3"
  },
  "language_info": {
   "codemirror_mode": {
    "name": "ipython",
    "version": 3
   },
   "file_extension": ".py",
   "mimetype": "text/x-python",
   "name": "python",
   "nbconvert_exporter": "python",
   "pygments_lexer": "ipython3",
   "version": "3.8.3"
  }
 },
 "nbformat": 4,
 "nbformat_minor": 4
}
